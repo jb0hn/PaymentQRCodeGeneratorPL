{
 "cells": [
  {
   "cell_type": "code",
   "execution_count": null,
   "metadata": {},
   "outputs": [],
   "source": [
    "# Import the required class from the library\n",
    "from PaymentQRCodeGeneratorPL import QRCodeGenerator"
   ]
  },
  {
   "cell_type": "code",
   "execution_count": null,
   "metadata": {},
   "outputs": [],
   "source": [
    "# Example usage for institutional client\n",
    "qr_generator_institutional = QRCodeGenerator(\n",
    "    receiver_type=1,\n",
    "    id_receiver='1234567890', \n",
    "    country_code='PL', \n",
    "    account_number='92124012340001567890123456', \n",
    "    amount=12.00, \n",
    "    receiver_name='Odbiorca 1', \n",
    "    payment_title='FV 1234/34/2012'\n",
    ")\n",
    "\n",
    "# Display the QR code in Jupyter notebook\n",
    "qr_generator_institutional.display_qr_code()"
   ]
  },
  {
   "cell_type": "code",
   "execution_count": null,
   "metadata": {},
   "outputs": [],
   "source": [
    "# Block 3\n",
    "# Example usage for individual client\n",
    "qr_generator_individual = QRCodeGenerator(\n",
    "    receiver_type=2,\n",
    "    id_receiver='',  # NIP is optional for individual client\n",
    "    country_code='PL', \n",
    "    account_number='92124012340001567890123456', \n",
    "    amount=12.00, \n",
    "    receiver_name='Odbiorca 2', \n",
    "    payment_title='FV 5678/78/2023'\n",
    ")\n",
    "\n",
    "# Display the QR code in Jupyter notebook\n",
    "qr_generator_individual.display_qr_code()"
   ]
  }
 ],
 "metadata": {
  "language_info": {
   "name": "python"
  },
  "orig_nbformat": 4
 },
 "nbformat": 4,
 "nbformat_minor": 2
}
